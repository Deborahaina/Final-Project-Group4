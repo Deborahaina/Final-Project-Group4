{
 "cells": [
  {
   "cell_type": "code",
   "execution_count": 2,
   "metadata": {},
   "outputs": [],
   "source": [
    "\n",
    "import pandas as pd\n"
   ]
  },
  {
   "cell_type": "code",
   "execution_count": 3,
   "metadata": {},
   "outputs": [],
   "source": [
    "import os\n",
    "os.chdir('/home/ubuntu/Deborah/Final-Project-Group4/')\n"
   ]
  },
  {
   "cell_type": "code",
   "execution_count": 4,
   "metadata": {},
   "outputs": [],
   "source": [
    "df = pd.read_csv(\"dataset/train.csv\")"
   ]
  },
  {
   "cell_type": "code",
   "execution_count": 5,
   "metadata": {},
   "outputs": [
    {
     "data": {
      "text/html": [
       "<div>\n",
       "<style scoped>\n",
       "    .dataframe tbody tr th:only-of-type {\n",
       "        vertical-align: middle;\n",
       "    }\n",
       "\n",
       "    .dataframe tbody tr th {\n",
       "        vertical-align: top;\n",
       "    }\n",
       "\n",
       "    .dataframe thead th {\n",
       "        text-align: right;\n",
       "    }\n",
       "</style>\n",
       "<table border=\"1\" class=\"dataframe\">\n",
       "  <thead>\n",
       "    <tr style=\"text-align: right;\">\n",
       "      <th></th>\n",
       "      <th>ImageId</th>\n",
       "      <th>EncodedPixels</th>\n",
       "      <th>Height</th>\n",
       "      <th>Width</th>\n",
       "      <th>ClassId</th>\n",
       "    </tr>\n",
       "  </thead>\n",
       "  <tbody>\n",
       "    <tr>\n",
       "      <th>0</th>\n",
       "      <td>00000663ed1ff0c4e0132b9b9ac53f6e.jpg</td>\n",
       "      <td>6068157 7 6073371 20 6078584 34 6083797 48 608...</td>\n",
       "      <td>5214</td>\n",
       "      <td>3676</td>\n",
       "      <td>6</td>\n",
       "    </tr>\n",
       "    <tr>\n",
       "      <th>1</th>\n",
       "      <td>00000663ed1ff0c4e0132b9b9ac53f6e.jpg</td>\n",
       "      <td>6323163 11 6328356 32 6333549 53 6338742 75 63...</td>\n",
       "      <td>5214</td>\n",
       "      <td>3676</td>\n",
       "      <td>0</td>\n",
       "    </tr>\n",
       "    <tr>\n",
       "      <th>2</th>\n",
       "      <td>00000663ed1ff0c4e0132b9b9ac53f6e.jpg</td>\n",
       "      <td>8521389 10 8526585 30 8531789 42 8537002 46 85...</td>\n",
       "      <td>5214</td>\n",
       "      <td>3676</td>\n",
       "      <td>28</td>\n",
       "    </tr>\n",
       "    <tr>\n",
       "      <th>3</th>\n",
       "      <td>00000663ed1ff0c4e0132b9b9ac53f6e.jpg</td>\n",
       "      <td>12903854 2 12909064 7 12914275 10 12919485 15 ...</td>\n",
       "      <td>5214</td>\n",
       "      <td>3676</td>\n",
       "      <td>31</td>\n",
       "    </tr>\n",
       "    <tr>\n",
       "      <th>4</th>\n",
       "      <td>00000663ed1ff0c4e0132b9b9ac53f6e.jpg</td>\n",
       "      <td>10837337 5 10842542 14 10847746 24 10852951 33...</td>\n",
       "      <td>5214</td>\n",
       "      <td>3676</td>\n",
       "      <td>32</td>\n",
       "    </tr>\n",
       "  </tbody>\n",
       "</table>\n",
       "</div>"
      ],
      "text/plain": [
       "                                ImageId  \\\n",
       "0  00000663ed1ff0c4e0132b9b9ac53f6e.jpg   \n",
       "1  00000663ed1ff0c4e0132b9b9ac53f6e.jpg   \n",
       "2  00000663ed1ff0c4e0132b9b9ac53f6e.jpg   \n",
       "3  00000663ed1ff0c4e0132b9b9ac53f6e.jpg   \n",
       "4  00000663ed1ff0c4e0132b9b9ac53f6e.jpg   \n",
       "\n",
       "                                       EncodedPixels  Height  Width ClassId  \n",
       "0  6068157 7 6073371 20 6078584 34 6083797 48 608...    5214   3676       6  \n",
       "1  6323163 11 6328356 32 6333549 53 6338742 75 63...    5214   3676       0  \n",
       "2  8521389 10 8526585 30 8531789 42 8537002 46 85...    5214   3676      28  \n",
       "3  12903854 2 12909064 7 12914275 10 12919485 15 ...    5214   3676      31  \n",
       "4  10837337 5 10842542 14 10847746 24 10852951 33...    5214   3676      32  "
      ]
     },
     "execution_count": 5,
     "metadata": {},
     "output_type": "execute_result"
    }
   ],
   "source": [
    "df.head()"
   ]
  },
  {
   "cell_type": "code",
   "execution_count": 7,
   "metadata": {},
   "outputs": [
    {
     "ename": "KeyError",
     "evalue": "\"['EncodedPixels'] not found in axis\"",
     "output_type": "error",
     "traceback": [
      "\u001b[0;31m---------------------------------------------------------------------------\u001b[0m",
      "\u001b[0;31mKeyError\u001b[0m                                  Traceback (most recent call last)",
      "Cell \u001b[0;32mIn[7], line 1\u001b[0m\n\u001b[0;32m----> 1\u001b[0m df \u001b[38;5;241m=\u001b[39m \u001b[43mdf\u001b[49m\u001b[38;5;241;43m.\u001b[39;49m\u001b[43mdrop\u001b[49m\u001b[43m(\u001b[49m\u001b[43mcolumns\u001b[49m\u001b[38;5;241;43m=\u001b[39;49m\u001b[43m[\u001b[49m\u001b[38;5;124;43m\"\u001b[39;49m\u001b[38;5;124;43mEncodedPixels\u001b[39;49m\u001b[38;5;124;43m\"\u001b[39;49m\u001b[43m]\u001b[49m\u001b[43m)\u001b[49m\n",
      "File \u001b[0;32m/usr/local/lib/python3.10/dist-packages/pandas/core/frame.py:5344\u001b[0m, in \u001b[0;36mDataFrame.drop\u001b[0;34m(self, labels, axis, index, columns, level, inplace, errors)\u001b[0m\n\u001b[1;32m   5196\u001b[0m \u001b[38;5;28;01mdef\u001b[39;00m \u001b[38;5;21mdrop\u001b[39m(\n\u001b[1;32m   5197\u001b[0m     \u001b[38;5;28mself\u001b[39m,\n\u001b[1;32m   5198\u001b[0m     labels: IndexLabel \u001b[38;5;241m|\u001b[39m \u001b[38;5;28;01mNone\u001b[39;00m \u001b[38;5;241m=\u001b[39m \u001b[38;5;28;01mNone\u001b[39;00m,\n\u001b[0;32m   (...)\u001b[0m\n\u001b[1;32m   5205\u001b[0m     errors: IgnoreRaise \u001b[38;5;241m=\u001b[39m \u001b[38;5;124m\"\u001b[39m\u001b[38;5;124mraise\u001b[39m\u001b[38;5;124m\"\u001b[39m,\n\u001b[1;32m   5206\u001b[0m ) \u001b[38;5;241m-\u001b[39m\u001b[38;5;241m>\u001b[39m DataFrame \u001b[38;5;241m|\u001b[39m \u001b[38;5;28;01mNone\u001b[39;00m:\n\u001b[1;32m   5207\u001b[0m \u001b[38;5;250m    \u001b[39m\u001b[38;5;124;03m\"\"\"\u001b[39;00m\n\u001b[1;32m   5208\u001b[0m \u001b[38;5;124;03m    Drop specified labels from rows or columns.\u001b[39;00m\n\u001b[1;32m   5209\u001b[0m \n\u001b[0;32m   (...)\u001b[0m\n\u001b[1;32m   5342\u001b[0m \u001b[38;5;124;03m            weight  1.0     0.8\u001b[39;00m\n\u001b[1;32m   5343\u001b[0m \u001b[38;5;124;03m    \"\"\"\u001b[39;00m\n\u001b[0;32m-> 5344\u001b[0m     \u001b[38;5;28;01mreturn\u001b[39;00m \u001b[38;5;28;43msuper\u001b[39;49m\u001b[43m(\u001b[49m\u001b[43m)\u001b[49m\u001b[38;5;241;43m.\u001b[39;49m\u001b[43mdrop\u001b[49m\u001b[43m(\u001b[49m\n\u001b[1;32m   5345\u001b[0m \u001b[43m        \u001b[49m\u001b[43mlabels\u001b[49m\u001b[38;5;241;43m=\u001b[39;49m\u001b[43mlabels\u001b[49m\u001b[43m,\u001b[49m\n\u001b[1;32m   5346\u001b[0m \u001b[43m        \u001b[49m\u001b[43maxis\u001b[49m\u001b[38;5;241;43m=\u001b[39;49m\u001b[43maxis\u001b[49m\u001b[43m,\u001b[49m\n\u001b[1;32m   5347\u001b[0m \u001b[43m        \u001b[49m\u001b[43mindex\u001b[49m\u001b[38;5;241;43m=\u001b[39;49m\u001b[43mindex\u001b[49m\u001b[43m,\u001b[49m\n\u001b[1;32m   5348\u001b[0m \u001b[43m        \u001b[49m\u001b[43mcolumns\u001b[49m\u001b[38;5;241;43m=\u001b[39;49m\u001b[43mcolumns\u001b[49m\u001b[43m,\u001b[49m\n\u001b[1;32m   5349\u001b[0m \u001b[43m        \u001b[49m\u001b[43mlevel\u001b[49m\u001b[38;5;241;43m=\u001b[39;49m\u001b[43mlevel\u001b[49m\u001b[43m,\u001b[49m\n\u001b[1;32m   5350\u001b[0m \u001b[43m        \u001b[49m\u001b[43minplace\u001b[49m\u001b[38;5;241;43m=\u001b[39;49m\u001b[43minplace\u001b[49m\u001b[43m,\u001b[49m\n\u001b[1;32m   5351\u001b[0m \u001b[43m        \u001b[49m\u001b[43merrors\u001b[49m\u001b[38;5;241;43m=\u001b[39;49m\u001b[43merrors\u001b[49m\u001b[43m,\u001b[49m\n\u001b[1;32m   5352\u001b[0m \u001b[43m    \u001b[49m\u001b[43m)\u001b[49m\n",
      "File \u001b[0;32m/usr/local/lib/python3.10/dist-packages/pandas/core/generic.py:4711\u001b[0m, in \u001b[0;36mNDFrame.drop\u001b[0;34m(self, labels, axis, index, columns, level, inplace, errors)\u001b[0m\n\u001b[1;32m   4709\u001b[0m \u001b[38;5;28;01mfor\u001b[39;00m axis, labels \u001b[38;5;129;01min\u001b[39;00m axes\u001b[38;5;241m.\u001b[39mitems():\n\u001b[1;32m   4710\u001b[0m     \u001b[38;5;28;01mif\u001b[39;00m labels \u001b[38;5;129;01mis\u001b[39;00m \u001b[38;5;129;01mnot\u001b[39;00m \u001b[38;5;28;01mNone\u001b[39;00m:\n\u001b[0;32m-> 4711\u001b[0m         obj \u001b[38;5;241m=\u001b[39m \u001b[43mobj\u001b[49m\u001b[38;5;241;43m.\u001b[39;49m\u001b[43m_drop_axis\u001b[49m\u001b[43m(\u001b[49m\u001b[43mlabels\u001b[49m\u001b[43m,\u001b[49m\u001b[43m \u001b[49m\u001b[43maxis\u001b[49m\u001b[43m,\u001b[49m\u001b[43m \u001b[49m\u001b[43mlevel\u001b[49m\u001b[38;5;241;43m=\u001b[39;49m\u001b[43mlevel\u001b[49m\u001b[43m,\u001b[49m\u001b[43m \u001b[49m\u001b[43merrors\u001b[49m\u001b[38;5;241;43m=\u001b[39;49m\u001b[43merrors\u001b[49m\u001b[43m)\u001b[49m\n\u001b[1;32m   4713\u001b[0m \u001b[38;5;28;01mif\u001b[39;00m inplace:\n\u001b[1;32m   4714\u001b[0m     \u001b[38;5;28mself\u001b[39m\u001b[38;5;241m.\u001b[39m_update_inplace(obj)\n",
      "File \u001b[0;32m/usr/local/lib/python3.10/dist-packages/pandas/core/generic.py:4753\u001b[0m, in \u001b[0;36mNDFrame._drop_axis\u001b[0;34m(self, labels, axis, level, errors, only_slice)\u001b[0m\n\u001b[1;32m   4751\u001b[0m         new_axis \u001b[38;5;241m=\u001b[39m axis\u001b[38;5;241m.\u001b[39mdrop(labels, level\u001b[38;5;241m=\u001b[39mlevel, errors\u001b[38;5;241m=\u001b[39merrors)\n\u001b[1;32m   4752\u001b[0m     \u001b[38;5;28;01melse\u001b[39;00m:\n\u001b[0;32m-> 4753\u001b[0m         new_axis \u001b[38;5;241m=\u001b[39m \u001b[43maxis\u001b[49m\u001b[38;5;241;43m.\u001b[39;49m\u001b[43mdrop\u001b[49m\u001b[43m(\u001b[49m\u001b[43mlabels\u001b[49m\u001b[43m,\u001b[49m\u001b[43m \u001b[49m\u001b[43merrors\u001b[49m\u001b[38;5;241;43m=\u001b[39;49m\u001b[43merrors\u001b[49m\u001b[43m)\u001b[49m\n\u001b[1;32m   4754\u001b[0m     indexer \u001b[38;5;241m=\u001b[39m axis\u001b[38;5;241m.\u001b[39mget_indexer(new_axis)\n\u001b[1;32m   4756\u001b[0m \u001b[38;5;66;03m# Case for non-unique axis\u001b[39;00m\n\u001b[1;32m   4757\u001b[0m \u001b[38;5;28;01melse\u001b[39;00m:\n",
      "File \u001b[0;32m/usr/local/lib/python3.10/dist-packages/pandas/core/indexes/base.py:7000\u001b[0m, in \u001b[0;36mIndex.drop\u001b[0;34m(self, labels, errors)\u001b[0m\n\u001b[1;32m   6998\u001b[0m \u001b[38;5;28;01mif\u001b[39;00m mask\u001b[38;5;241m.\u001b[39many():\n\u001b[1;32m   6999\u001b[0m     \u001b[38;5;28;01mif\u001b[39;00m errors \u001b[38;5;241m!=\u001b[39m \u001b[38;5;124m\"\u001b[39m\u001b[38;5;124mignore\u001b[39m\u001b[38;5;124m\"\u001b[39m:\n\u001b[0;32m-> 7000\u001b[0m         \u001b[38;5;28;01mraise\u001b[39;00m \u001b[38;5;167;01mKeyError\u001b[39;00m(\u001b[38;5;124mf\u001b[39m\u001b[38;5;124m\"\u001b[39m\u001b[38;5;132;01m{\u001b[39;00mlabels[mask]\u001b[38;5;241m.\u001b[39mtolist()\u001b[38;5;132;01m}\u001b[39;00m\u001b[38;5;124m not found in axis\u001b[39m\u001b[38;5;124m\"\u001b[39m)\n\u001b[1;32m   7001\u001b[0m     indexer \u001b[38;5;241m=\u001b[39m indexer[\u001b[38;5;241m~\u001b[39mmask]\n\u001b[1;32m   7002\u001b[0m \u001b[38;5;28;01mreturn\u001b[39;00m \u001b[38;5;28mself\u001b[39m\u001b[38;5;241m.\u001b[39mdelete(indexer)\n",
      "\u001b[0;31mKeyError\u001b[0m: \"['EncodedPixels'] not found in axis\""
     ]
    }
   ],
   "source": [
    "df = df.drop(columns=[\"EncodedPixels\"])"
   ]
  },
  {
   "cell_type": "code",
   "execution_count": 8,
   "metadata": {},
   "outputs": [
    {
     "data": {
      "text/html": [
       "<div>\n",
       "<style scoped>\n",
       "    .dataframe tbody tr th:only-of-type {\n",
       "        vertical-align: middle;\n",
       "    }\n",
       "\n",
       "    .dataframe tbody tr th {\n",
       "        vertical-align: top;\n",
       "    }\n",
       "\n",
       "    .dataframe thead th {\n",
       "        text-align: right;\n",
       "    }\n",
       "</style>\n",
       "<table border=\"1\" class=\"dataframe\">\n",
       "  <thead>\n",
       "    <tr style=\"text-align: right;\">\n",
       "      <th></th>\n",
       "      <th>ImageId</th>\n",
       "      <th>Height</th>\n",
       "      <th>Width</th>\n",
       "      <th>ClassId</th>\n",
       "    </tr>\n",
       "  </thead>\n",
       "  <tbody>\n",
       "  </tbody>\n",
       "</table>\n",
       "</div>"
      ],
      "text/plain": [
       "Empty DataFrame\n",
       "Columns: [ImageId, Height, Width, ClassId]\n",
       "Index: []"
      ]
     },
     "execution_count": 8,
     "metadata": {},
     "output_type": "execute_result"
    }
   ],
   "source": [
    "df[df.isna().any(axis=1)]"
   ]
  },
  {
   "cell_type": "code",
   "execution_count": null,
   "metadata": {},
   "outputs": [],
   "source": [
    "df"
   ]
  },
  {
   "cell_type": "code",
   "execution_count": 10,
   "metadata": {},
   "outputs": [
    {
     "data": {
      "text/html": [
       "<div>\n",
       "<style scoped>\n",
       "    .dataframe tbody tr th:only-of-type {\n",
       "        vertical-align: middle;\n",
       "    }\n",
       "\n",
       "    .dataframe tbody tr th {\n",
       "        vertical-align: top;\n",
       "    }\n",
       "\n",
       "    .dataframe thead th {\n",
       "        text-align: right;\n",
       "    }\n",
       "</style>\n",
       "<table border=\"1\" class=\"dataframe\">\n",
       "  <thead>\n",
       "    <tr style=\"text-align: right;\">\n",
       "      <th></th>\n",
       "      <th>ImageId</th>\n",
       "      <th>Category</th>\n",
       "    </tr>\n",
       "  </thead>\n",
       "  <tbody>\n",
       "    <tr>\n",
       "      <th>0</th>\n",
       "      <td>00000663ed1ff0c4e0132b9b9ac53f6e.jpg</td>\n",
       "      <td>0,28,29,31,31,32,32,4,6</td>\n",
       "    </tr>\n",
       "    <tr>\n",
       "      <th>1</th>\n",
       "      <td>0000fe7c9191fba733c8a69cfaf962b7.jpg</td>\n",
       "      <td>1,33</td>\n",
       "    </tr>\n",
       "    <tr>\n",
       "      <th>2</th>\n",
       "      <td>0002ec21ddb8477e98b2cbb87ea2e269.jpg</td>\n",
       "      <td>10,23,23,33</td>\n",
       "    </tr>\n",
       "    <tr>\n",
       "      <th>3</th>\n",
       "      <td>0002f5a0ebc162ecfb73e2c91e3b8f62.jpg</td>\n",
       "      <td>10,15,33</td>\n",
       "    </tr>\n",
       "    <tr>\n",
       "      <th>4</th>\n",
       "      <td>0004467156e47b0eb6de4aa6479cbd15.jpg</td>\n",
       "      <td>10,15,31,31,33</td>\n",
       "    </tr>\n",
       "  </tbody>\n",
       "</table>\n",
       "</div>"
      ],
      "text/plain": [
       "                                ImageId                 Category\n",
       "0  00000663ed1ff0c4e0132b9b9ac53f6e.jpg  0,28,29,31,31,32,32,4,6\n",
       "1  0000fe7c9191fba733c8a69cfaf962b7.jpg                     1,33\n",
       "2  0002ec21ddb8477e98b2cbb87ea2e269.jpg              10,23,23,33\n",
       "3  0002f5a0ebc162ecfb73e2c91e3b8f62.jpg                 10,15,33\n",
       "4  0004467156e47b0eb6de4aa6479cbd15.jpg           10,15,31,31,33"
      ]
     },
     "execution_count": 10,
     "metadata": {},
     "output_type": "execute_result"
    }
   ],
   "source": [
    "#Create a new column with the labels associated with the image\n",
    "\n",
    "final_df = df.assign(Category=df[\"ClassId\"].apply(lambda x: x.split(\"_\")[0])) \\\n",
    ".groupby(\"ImageId\")[\"Category\"] \\\n",
    ".agg(lambda x: \",\".join(map(str, sorted(x)))) \\\n",
    ".reset_index()\n",
    "\n",
    "\n",
    "final_df.head()\n"
   ]
  },
  {
   "cell_type": "code",
   "execution_count": 11,
   "metadata": {},
   "outputs": [],
   "source": [
    "# Attributes and label_descriptions\n",
    "import json\n",
    "\n",
    "with open('dataset/label_descriptions.json') as f:\n",
    "    label_descriptions = json.load(f)\n"
   ]
  },
  {
   "cell_type": "code",
   "execution_count": 12,
   "metadata": {},
   "outputs": [
    {
     "name": "stdout",
     "output_type": "stream",
     "text": [
      "[{'id': 0, 'name': 'shirt, blouse', 'supercategory': 'upperbody', 'level': 2}, {'id': 1, 'name': 'top, t-shirt, sweatshirt', 'supercategory': 'upperbody', 'level': 2}, {'id': 2, 'name': 'sweater', 'supercategory': 'upperbody', 'level': 2}, {'id': 3, 'name': 'cardigan', 'supercategory': 'upperbody', 'level': 2}, {'id': 4, 'name': 'jacket', 'supercategory': 'upperbody', 'level': 2}, {'id': 5, 'name': 'vest', 'supercategory': 'upperbody', 'level': 2}, {'id': 6, 'name': 'pants', 'supercategory': 'lowerbody', 'level': 2}, {'id': 7, 'name': 'shorts', 'supercategory': 'lowerbody', 'level': 2}, {'id': 8, 'name': 'skirt', 'supercategory': 'lowerbody', 'level': 2}, {'id': 9, 'name': 'coat', 'supercategory': 'wholebody', 'level': 2}, {'id': 10, 'name': 'dress', 'supercategory': 'wholebody', 'level': 2}, {'id': 11, 'name': 'jumpsuit', 'supercategory': 'wholebody', 'level': 2}, {'id': 12, 'name': 'cape', 'supercategory': 'wholebody', 'level': 2}, {'id': 13, 'name': 'glasses', 'supercategory': 'head', 'level': 2}, {'id': 14, 'name': 'hat', 'supercategory': 'head', 'level': 2}, {'id': 15, 'name': 'headband, head covering, hair accessory', 'supercategory': 'head', 'level': 2}, {'id': 16, 'name': 'tie', 'supercategory': 'neck', 'level': 2}, {'id': 17, 'name': 'glove', 'supercategory': 'arms and hands', 'level': 2}, {'id': 18, 'name': 'watch', 'supercategory': 'arms and hands', 'level': 2}, {'id': 19, 'name': 'belt', 'supercategory': 'waist', 'level': 2}, {'id': 20, 'name': 'leg warmer', 'supercategory': 'legs and feet', 'level': 2}, {'id': 21, 'name': 'tights, stockings', 'supercategory': 'legs and feet', 'level': 2}, {'id': 22, 'name': 'sock', 'supercategory': 'legs and feet', 'level': 2}, {'id': 23, 'name': 'shoe', 'supercategory': 'legs and feet', 'level': 2}, {'id': 24, 'name': 'bag, wallet', 'supercategory': 'others', 'level': 2}, {'id': 25, 'name': 'scarf', 'supercategory': 'others', 'level': 2}, {'id': 26, 'name': 'umbrella', 'supercategory': 'others', 'level': 2}, {'id': 27, 'name': 'hood', 'supercategory': 'garment parts', 'level': 2}, {'id': 28, 'name': 'collar', 'supercategory': 'garment parts', 'level': 2}, {'id': 29, 'name': 'lapel', 'supercategory': 'garment parts', 'level': 2}, {'id': 30, 'name': 'epaulette', 'supercategory': 'garment parts', 'level': 2}, {'id': 31, 'name': 'sleeve', 'supercategory': 'garment parts', 'level': 2}, {'id': 32, 'name': 'pocket', 'supercategory': 'garment parts', 'level': 2}, {'id': 33, 'name': 'neckline', 'supercategory': 'garment parts', 'level': 2}, {'id': 34, 'name': 'buckle', 'supercategory': 'closures', 'level': 2}, {'id': 35, 'name': 'zipper', 'supercategory': 'closures', 'level': 2}, {'id': 36, 'name': 'applique', 'supercategory': 'decorations', 'level': 2}, {'id': 37, 'name': 'bead', 'supercategory': 'decorations', 'level': 2}, {'id': 38, 'name': 'bow', 'supercategory': 'decorations', 'level': 2}, {'id': 39, 'name': 'flower', 'supercategory': 'decorations', 'level': 2}, {'id': 40, 'name': 'fringe', 'supercategory': 'decorations', 'level': 2}, {'id': 41, 'name': 'ribbon', 'supercategory': 'decorations', 'level': 2}, {'id': 42, 'name': 'rivet', 'supercategory': 'decorations', 'level': 2}, {'id': 43, 'name': 'ruffle', 'supercategory': 'decorations', 'level': 2}, {'id': 44, 'name': 'sequin', 'supercategory': 'decorations', 'level': 2}, {'id': 45, 'name': 'tassel', 'supercategory': 'decorations', 'level': 2}]\n"
     ]
    }
   ],
   "source": [
    "categories = label_descriptions['categories']\n",
    "\n",
    "print(categories)"
   ]
  },
  {
   "cell_type": "code",
   "execution_count": 13,
   "metadata": {},
   "outputs": [
    {
     "data": {
      "text/html": [
       "<div>\n",
       "<style scoped>\n",
       "    .dataframe tbody tr th:only-of-type {\n",
       "        vertical-align: middle;\n",
       "    }\n",
       "\n",
       "    .dataframe tbody tr th {\n",
       "        vertical-align: top;\n",
       "    }\n",
       "\n",
       "    .dataframe thead th {\n",
       "        text-align: right;\n",
       "    }\n",
       "</style>\n",
       "<table border=\"1\" class=\"dataframe\">\n",
       "  <thead>\n",
       "    <tr style=\"text-align: right;\">\n",
       "      <th></th>\n",
       "      <th>id</th>\n",
       "      <th>name</th>\n",
       "      <th>supercategory</th>\n",
       "      <th>level</th>\n",
       "    </tr>\n",
       "  </thead>\n",
       "  <tbody>\n",
       "    <tr>\n",
       "      <th>0</th>\n",
       "      <td>0</td>\n",
       "      <td>shirt, blouse</td>\n",
       "      <td>upperbody</td>\n",
       "      <td>2</td>\n",
       "    </tr>\n",
       "    <tr>\n",
       "      <th>1</th>\n",
       "      <td>1</td>\n",
       "      <td>top, t-shirt, sweatshirt</td>\n",
       "      <td>upperbody</td>\n",
       "      <td>2</td>\n",
       "    </tr>\n",
       "    <tr>\n",
       "      <th>2</th>\n",
       "      <td>2</td>\n",
       "      <td>sweater</td>\n",
       "      <td>upperbody</td>\n",
       "      <td>2</td>\n",
       "    </tr>\n",
       "    <tr>\n",
       "      <th>3</th>\n",
       "      <td>3</td>\n",
       "      <td>cardigan</td>\n",
       "      <td>upperbody</td>\n",
       "      <td>2</td>\n",
       "    </tr>\n",
       "    <tr>\n",
       "      <th>4</th>\n",
       "      <td>4</td>\n",
       "      <td>jacket</td>\n",
       "      <td>upperbody</td>\n",
       "      <td>2</td>\n",
       "    </tr>\n",
       "  </tbody>\n",
       "</table>\n",
       "</div>"
      ],
      "text/plain": [
       "   id                      name supercategory  level\n",
       "0   0             shirt, blouse     upperbody      2\n",
       "1   1  top, t-shirt, sweatshirt     upperbody      2\n",
       "2   2                   sweater     upperbody      2\n",
       "3   3                  cardigan     upperbody      2\n",
       "4   4                    jacket     upperbody      2"
      ]
     },
     "execution_count": 13,
     "metadata": {},
     "output_type": "execute_result"
    }
   ],
   "source": [
    "categories_df = pd.DataFrame(categories)\n",
    "categories_df.head()"
   ]
  },
  {
   "cell_type": "code",
   "execution_count": 14,
   "metadata": {},
   "outputs": [
    {
     "name": "stdout",
     "output_type": "stream",
     "text": [
      "[{'id': 0, 'name': 'above-the-hip (length)', 'supercategory': 'length', 'level': 1}, {'id': 1, 'name': 'hip (length)', 'supercategory': 'length', 'level': 1}, {'id': 2, 'name': 'micro (length)', 'supercategory': 'length', 'level': 1}, {'id': 3, 'name': 'mini (length)', 'supercategory': 'length', 'level': 1}, {'id': 4, 'name': 'above-the-knee (length)', 'supercategory': 'length', 'level': 1}, {'id': 5, 'name': 'knee (length)', 'supercategory': 'length', 'level': 1}, {'id': 6, 'name': 'below the knee (length)', 'supercategory': 'length', 'level': 1}, {'id': 7, 'name': 'midi', 'supercategory': 'length', 'level': 1}, {'id': 8, 'name': 'maxi (length)', 'supercategory': 'length', 'level': 1}, {'id': 9, 'name': 'floor (length)', 'supercategory': 'length', 'level': 1}, {'id': 10, 'name': 'single breasted', 'supercategory': 'opening type', 'level': 1}, {'id': 11, 'name': 'double breasted', 'supercategory': 'opening type', 'level': 1}, {'id': 12, 'name': 'lace up', 'supercategory': 'opening type', 'level': 1}, {'id': 13, 'name': 'wrapping', 'supercategory': 'opening type', 'level': 1}, {'id': 14, 'name': 'zip-up', 'supercategory': 'opening type', 'level': 1}, {'id': 15, 'name': 'fly (opening)', 'supercategory': 'opening type', 'level': 1}, {'id': 16, 'name': 'buckled (opening)', 'supercategory': 'opening type', 'level': 1}, {'id': 17, 'name': 'toggled (opening)', 'supercategory': 'opening type', 'level': 1}, {'id': 18, 'name': 'no opening', 'supercategory': 'opening type', 'level': 1}, {'id': 19, 'name': 'asymmetrical', 'supercategory': 'silhouette', 'level': 1}, {'id': 20, 'name': 'symmetrical', 'supercategory': 'silhouette', 'level': 1}, {'id': 21, 'name': 'peplum', 'supercategory': 'silhouette', 'level': 1}, {'id': 22, 'name': 'circle', 'supercategory': 'silhouette', 'level': 1}, {'id': 23, 'name': 'flare', 'supercategory': 'silhouette', 'level': 1}, {'id': 24, 'name': 'fit and flare', 'supercategory': 'silhouette', 'level': 1}, {'id': 25, 'name': 'trumpet', 'supercategory': 'silhouette', 'level': 1}, {'id': 26, 'name': 'mermaid', 'supercategory': 'silhouette', 'level': 1}, {'id': 27, 'name': 'balloon', 'supercategory': 'silhouette', 'level': 1}, {'id': 28, 'name': 'bell', 'supercategory': 'silhouette', 'level': 1}, {'id': 29, 'name': 'bell bottom', 'supercategory': 'silhouette', 'level': 1}, {'id': 30, 'name': 'bootcut', 'supercategory': 'silhouette', 'level': 1}, {'id': 31, 'name': 'peg', 'supercategory': 'silhouette', 'level': 1}, {'id': 32, 'name': 'pencil', 'supercategory': 'silhouette', 'level': 1}, {'id': 33, 'name': 'straight', 'supercategory': 'silhouette', 'level': 1}, {'id': 34, 'name': 'a-line', 'supercategory': 'silhouette', 'level': 1}, {'id': 35, 'name': 'tent', 'supercategory': 'silhouette', 'level': 1}, {'id': 36, 'name': 'baggy', 'supercategory': 'silhouette', 'level': 1}, {'id': 37, 'name': 'wide leg', 'supercategory': 'silhouette', 'level': 1}, {'id': 38, 'name': 'high low', 'supercategory': 'silhouette', 'level': 1}, {'id': 39, 'name': 'curved (fit)', 'supercategory': 'silhouette', 'level': 1}, {'id': 40, 'name': 'tight (fit)', 'supercategory': 'silhouette', 'level': 1}, {'id': 41, 'name': 'regular (fit)', 'supercategory': 'silhouette', 'level': 1}, {'id': 42, 'name': 'loose (fit)', 'supercategory': 'silhouette', 'level': 1}, {'id': 43, 'name': 'oversized', 'supercategory': 'silhouette', 'level': 1}, {'id': 44, 'name': 'burnout', 'supercategory': 'textile finishing, manufacturing techniques', 'level': 1}, {'id': 45, 'name': 'distressed', 'supercategory': 'textile finishing, manufacturing techniques', 'level': 1}, {'id': 46, 'name': 'washed', 'supercategory': 'textile finishing, manufacturing techniques', 'level': 1}, {'id': 47, 'name': 'embossed', 'supercategory': 'textile finishing, manufacturing techniques', 'level': 1}, {'id': 48, 'name': 'frayed', 'supercategory': 'textile finishing, manufacturing techniques', 'level': 1}, {'id': 49, 'name': 'printed', 'supercategory': 'textile finishing, manufacturing techniques', 'level': 1}, {'id': 50, 'name': 'ruched', 'supercategory': 'textile finishing, manufacturing techniques', 'level': 1}, {'id': 51, 'name': 'quilted', 'supercategory': 'textile finishing, manufacturing techniques', 'level': 1}, {'id': 52, 'name': 'pleat', 'supercategory': 'textile finishing, manufacturing techniques', 'level': 1}, {'id': 53, 'name': 'gathering', 'supercategory': 'textile finishing, manufacturing techniques', 'level': 1}, {'id': 54, 'name': 'smocking', 'supercategory': 'textile finishing, manufacturing techniques', 'level': 1}, {'id': 55, 'name': 'tiered', 'supercategory': 'textile finishing, manufacturing techniques', 'level': 1}, {'id': 56, 'name': 'cutout', 'supercategory': 'textile finishing, manufacturing techniques', 'level': 1}, {'id': 57, 'name': 'slit', 'supercategory': 'textile finishing, manufacturing techniques', 'level': 1}, {'id': 58, 'name': 'perforated', 'supercategory': 'textile finishing, manufacturing techniques', 'level': 1}, {'id': 59, 'name': 'lining', 'supercategory': 'textile finishing, manufacturing techniques', 'level': 1}, {'id': 60, 'name': 'no special manufacturing technique', 'supercategory': 'textile finishing, manufacturing techniques', 'level': 1}, {'id': 61, 'name': 'plain (pattern)', 'supercategory': 'textile pattern', 'level': 1}, {'id': 62, 'name': 'abstract', 'supercategory': 'textile pattern', 'level': 1}, {'id': 63, 'name': 'cartoon', 'supercategory': 'textile pattern', 'level': 1}, {'id': 64, 'name': 'letters, numbers', 'supercategory': 'textile pattern', 'level': 1}, {'id': 65, 'name': 'camouflage', 'supercategory': 'textile pattern', 'level': 1}, {'id': 66, 'name': 'check', 'supercategory': 'textile pattern', 'level': 1}, {'id': 67, 'name': 'dot', 'supercategory': 'textile pattern', 'level': 1}, {'id': 68, 'name': 'fair isle', 'supercategory': 'textile pattern', 'level': 1}, {'id': 69, 'name': 'floral', 'supercategory': 'textile pattern', 'level': 1}, {'id': 70, 'name': 'geometric', 'supercategory': 'textile pattern', 'level': 1}, {'id': 71, 'name': 'paisley', 'supercategory': 'textile pattern', 'level': 1}, {'id': 72, 'name': 'stripe', 'supercategory': 'textile pattern', 'level': 1}, {'id': 73, 'name': 'houndstooth (pattern)', 'supercategory': 'textile pattern', 'level': 1}, {'id': 74, 'name': 'herringbone (pattern)', 'supercategory': 'textile pattern', 'level': 1}, {'id': 75, 'name': 'chevron', 'supercategory': 'textile pattern', 'level': 1}, {'id': 76, 'name': 'argyle', 'supercategory': 'textile pattern', 'level': 1}, {'id': 77, 'name': 'leopard', 'supercategory': 'animal', 'level': 2}, {'id': 78, 'name': 'snakeskin (pattern)', 'supercategory': 'animal', 'level': 2}, {'id': 79, 'name': 'cheetah', 'supercategory': 'animal', 'level': 2}, {'id': 80, 'name': 'peacock', 'supercategory': 'animal', 'level': 2}, {'id': 81, 'name': 'zebra', 'supercategory': 'animal', 'level': 2}, {'id': 82, 'name': 'giraffe', 'supercategory': 'animal', 'level': 2}, {'id': 83, 'name': 'toile de jouy', 'supercategory': 'textile pattern', 'level': 1}, {'id': 84, 'name': 'plant', 'supercategory': 'textile pattern', 'level': 1}, {'id': 85, 'name': 'empire waistline', 'supercategory': 'waistline', 'level': 1}, {'id': 86, 'name': 'dropped waistline', 'supercategory': 'waistline', 'level': 1}, {'id': 87, 'name': 'high waist', 'supercategory': 'waistline', 'level': 1}, {'id': 88, 'name': 'normal waist', 'supercategory': 'waistline', 'level': 1}, {'id': 89, 'name': 'low waist', 'supercategory': 'waistline', 'level': 1}, {'id': 90, 'name': 'basque (wasitline)', 'supercategory': 'waistline', 'level': 1}, {'id': 91, 'name': 'no waistline', 'supercategory': 'waistline', 'level': 1}]\n"
     ]
    }
   ],
   "source": [
    "attributes = label_descriptions['attributes']\n",
    "print(attributes)"
   ]
  },
  {
   "cell_type": "code",
   "execution_count": 15,
   "metadata": {},
   "outputs": [
    {
     "data": {
      "text/html": [
       "<div>\n",
       "<style scoped>\n",
       "    .dataframe tbody tr th:only-of-type {\n",
       "        vertical-align: middle;\n",
       "    }\n",
       "\n",
       "    .dataframe tbody tr th {\n",
       "        vertical-align: top;\n",
       "    }\n",
       "\n",
       "    .dataframe thead th {\n",
       "        text-align: right;\n",
       "    }\n",
       "</style>\n",
       "<table border=\"1\" class=\"dataframe\">\n",
       "  <thead>\n",
       "    <tr style=\"text-align: right;\">\n",
       "      <th></th>\n",
       "      <th>id</th>\n",
       "      <th>name</th>\n",
       "      <th>supercategory</th>\n",
       "      <th>level</th>\n",
       "    </tr>\n",
       "  </thead>\n",
       "  <tbody>\n",
       "    <tr>\n",
       "      <th>0</th>\n",
       "      <td>0</td>\n",
       "      <td>above-the-hip (length)</td>\n",
       "      <td>length</td>\n",
       "      <td>1</td>\n",
       "    </tr>\n",
       "    <tr>\n",
       "      <th>1</th>\n",
       "      <td>1</td>\n",
       "      <td>hip (length)</td>\n",
       "      <td>length</td>\n",
       "      <td>1</td>\n",
       "    </tr>\n",
       "    <tr>\n",
       "      <th>2</th>\n",
       "      <td>2</td>\n",
       "      <td>micro (length)</td>\n",
       "      <td>length</td>\n",
       "      <td>1</td>\n",
       "    </tr>\n",
       "    <tr>\n",
       "      <th>3</th>\n",
       "      <td>3</td>\n",
       "      <td>mini (length)</td>\n",
       "      <td>length</td>\n",
       "      <td>1</td>\n",
       "    </tr>\n",
       "    <tr>\n",
       "      <th>4</th>\n",
       "      <td>4</td>\n",
       "      <td>above-the-knee (length)</td>\n",
       "      <td>length</td>\n",
       "      <td>1</td>\n",
       "    </tr>\n",
       "    <tr>\n",
       "      <th>...</th>\n",
       "      <td>...</td>\n",
       "      <td>...</td>\n",
       "      <td>...</td>\n",
       "      <td>...</td>\n",
       "    </tr>\n",
       "    <tr>\n",
       "      <th>87</th>\n",
       "      <td>87</td>\n",
       "      <td>high waist</td>\n",
       "      <td>waistline</td>\n",
       "      <td>1</td>\n",
       "    </tr>\n",
       "    <tr>\n",
       "      <th>88</th>\n",
       "      <td>88</td>\n",
       "      <td>normal waist</td>\n",
       "      <td>waistline</td>\n",
       "      <td>1</td>\n",
       "    </tr>\n",
       "    <tr>\n",
       "      <th>89</th>\n",
       "      <td>89</td>\n",
       "      <td>low waist</td>\n",
       "      <td>waistline</td>\n",
       "      <td>1</td>\n",
       "    </tr>\n",
       "    <tr>\n",
       "      <th>90</th>\n",
       "      <td>90</td>\n",
       "      <td>basque (wasitline)</td>\n",
       "      <td>waistline</td>\n",
       "      <td>1</td>\n",
       "    </tr>\n",
       "    <tr>\n",
       "      <th>91</th>\n",
       "      <td>91</td>\n",
       "      <td>no waistline</td>\n",
       "      <td>waistline</td>\n",
       "      <td>1</td>\n",
       "    </tr>\n",
       "  </tbody>\n",
       "</table>\n",
       "<p>92 rows × 4 columns</p>\n",
       "</div>"
      ],
      "text/plain": [
       "    id                     name supercategory  level\n",
       "0    0   above-the-hip (length)        length      1\n",
       "1    1             hip (length)        length      1\n",
       "2    2           micro (length)        length      1\n",
       "3    3            mini (length)        length      1\n",
       "4    4  above-the-knee (length)        length      1\n",
       "..  ..                      ...           ...    ...\n",
       "87  87               high waist     waistline      1\n",
       "88  88             normal waist     waistline      1\n",
       "89  89                low waist     waistline      1\n",
       "90  90       basque (wasitline)     waistline      1\n",
       "91  91             no waistline     waistline      1\n",
       "\n",
       "[92 rows x 4 columns]"
      ]
     },
     "execution_count": 15,
     "metadata": {},
     "output_type": "execute_result"
    }
   ],
   "source": [
    "pd.DataFrame(attributes)\n"
   ]
  },
  {
   "cell_type": "code",
   "execution_count": 16,
   "metadata": {},
   "outputs": [],
   "source": [
    "def get_category_name(category_id):\n",
    "    for category in categories:\n",
    "        if category['id'] == int(category_id):\n",
    "            return category['name']\n",
    "    return 'Unknown'\n",
    "\n",
    "final_df['CategoryName'] = final_df['Category'].apply(lambda x: '|'.join(get_category_name(id) for id in x.split(',')))"
   ]
  },
  {
   "cell_type": "code",
   "execution_count": 17,
   "metadata": {},
   "outputs": [
    {
     "data": {
      "text/html": [
       "<div>\n",
       "<style scoped>\n",
       "    .dataframe tbody tr th:only-of-type {\n",
       "        vertical-align: middle;\n",
       "    }\n",
       "\n",
       "    .dataframe tbody tr th {\n",
       "        vertical-align: top;\n",
       "    }\n",
       "\n",
       "    .dataframe thead th {\n",
       "        text-align: right;\n",
       "    }\n",
       "</style>\n",
       "<table border=\"1\" class=\"dataframe\">\n",
       "  <thead>\n",
       "    <tr style=\"text-align: right;\">\n",
       "      <th></th>\n",
       "      <th>ImageId</th>\n",
       "      <th>Category</th>\n",
       "      <th>CategoryName</th>\n",
       "      <th>Split</th>\n",
       "    </tr>\n",
       "  </thead>\n",
       "  <tbody>\n",
       "    <tr>\n",
       "      <th>0</th>\n",
       "      <td>00000663ed1ff0c4e0132b9b9ac53f6e.jpg</td>\n",
       "      <td>0,28,29,31,31,32,32,4,6</td>\n",
       "      <td>shirt, blouse|collar|lapel|sleeve|sleeve|pocke...</td>\n",
       "      <td></td>\n",
       "    </tr>\n",
       "    <tr>\n",
       "      <th>1</th>\n",
       "      <td>0000fe7c9191fba733c8a69cfaf962b7.jpg</td>\n",
       "      <td>1,33</td>\n",
       "      <td>top, t-shirt, sweatshirt|neckline</td>\n",
       "      <td></td>\n",
       "    </tr>\n",
       "    <tr>\n",
       "      <th>2</th>\n",
       "      <td>0002ec21ddb8477e98b2cbb87ea2e269.jpg</td>\n",
       "      <td>10,23,23,33</td>\n",
       "      <td>dress|shoe|shoe|neckline</td>\n",
       "      <td></td>\n",
       "    </tr>\n",
       "    <tr>\n",
       "      <th>3</th>\n",
       "      <td>0002f5a0ebc162ecfb73e2c91e3b8f62.jpg</td>\n",
       "      <td>10,15,33</td>\n",
       "      <td>dress|headband, head covering, hair accessory|...</td>\n",
       "      <td></td>\n",
       "    </tr>\n",
       "    <tr>\n",
       "      <th>4</th>\n",
       "      <td>0004467156e47b0eb6de4aa6479cbd15.jpg</td>\n",
       "      <td>10,15,31,31,33</td>\n",
       "      <td>dress|headband, head covering, hair accessory|...</td>\n",
       "      <td></td>\n",
       "    </tr>\n",
       "    <tr>\n",
       "      <th>...</th>\n",
       "      <td>...</td>\n",
       "      <td>...</td>\n",
       "      <td>...</td>\n",
       "      <td>...</td>\n",
       "    </tr>\n",
       "    <tr>\n",
       "      <th>45190</th>\n",
       "      <td>fff8d9bd5ad4354b66355dd797942b42.jpg</td>\n",
       "      <td>10,23,23,33</td>\n",
       "      <td>dress|shoe|shoe|neckline</td>\n",
       "      <td></td>\n",
       "    </tr>\n",
       "    <tr>\n",
       "      <th>45191</th>\n",
       "      <td>fffb65463df408e308983ef743b77491.jpg</td>\n",
       "      <td>1,18,19,23,23,31,31,33,34,6</td>\n",
       "      <td>top, t-shirt, sweatshirt|watch|belt|shoe|shoe|...</td>\n",
       "      <td></td>\n",
       "    </tr>\n",
       "    <tr>\n",
       "      <th>45192</th>\n",
       "      <td>fffc631acce2e28e1628de685d40c980.jpg</td>\n",
       "      <td>10,13,18,23,23,24,28,31,31,32</td>\n",
       "      <td>dress|glasses|watch|shoe|shoe|bag, wallet|coll...</td>\n",
       "      <td></td>\n",
       "    </tr>\n",
       "    <tr>\n",
       "      <th>45193</th>\n",
       "      <td>fffe20b555b98c3c1f26c8dfff275cbc.jpg</td>\n",
       "      <td>0,19,23,23,28,29,31,31,31,32,32,32,34,4,6</td>\n",
       "      <td>shirt, blouse|belt|shoe|shoe|collar|lapel|slee...</td>\n",
       "      <td></td>\n",
       "    </tr>\n",
       "    <tr>\n",
       "      <th>45194</th>\n",
       "      <td>ffffbf7014a9e408bfbb81a75bc70638.jpg</td>\n",
       "      <td>10,31,31,33</td>\n",
       "      <td>dress|sleeve|sleeve|neckline</td>\n",
       "      <td></td>\n",
       "    </tr>\n",
       "  </tbody>\n",
       "</table>\n",
       "<p>45195 rows × 4 columns</p>\n",
       "</div>"
      ],
      "text/plain": [
       "                                    ImageId  \\\n",
       "0      00000663ed1ff0c4e0132b9b9ac53f6e.jpg   \n",
       "1      0000fe7c9191fba733c8a69cfaf962b7.jpg   \n",
       "2      0002ec21ddb8477e98b2cbb87ea2e269.jpg   \n",
       "3      0002f5a0ebc162ecfb73e2c91e3b8f62.jpg   \n",
       "4      0004467156e47b0eb6de4aa6479cbd15.jpg   \n",
       "...                                     ...   \n",
       "45190  fff8d9bd5ad4354b66355dd797942b42.jpg   \n",
       "45191  fffb65463df408e308983ef743b77491.jpg   \n",
       "45192  fffc631acce2e28e1628de685d40c980.jpg   \n",
       "45193  fffe20b555b98c3c1f26c8dfff275cbc.jpg   \n",
       "45194  ffffbf7014a9e408bfbb81a75bc70638.jpg   \n",
       "\n",
       "                                        Category  \\\n",
       "0                        0,28,29,31,31,32,32,4,6   \n",
       "1                                           1,33   \n",
       "2                                    10,23,23,33   \n",
       "3                                       10,15,33   \n",
       "4                                 10,15,31,31,33   \n",
       "...                                          ...   \n",
       "45190                                10,23,23,33   \n",
       "45191                1,18,19,23,23,31,31,33,34,6   \n",
       "45192              10,13,18,23,23,24,28,31,31,32   \n",
       "45193  0,19,23,23,28,29,31,31,31,32,32,32,34,4,6   \n",
       "45194                                10,31,31,33   \n",
       "\n",
       "                                            CategoryName Split  \n",
       "0      shirt, blouse|collar|lapel|sleeve|sleeve|pocke...        \n",
       "1                      top, t-shirt, sweatshirt|neckline        \n",
       "2                               dress|shoe|shoe|neckline        \n",
       "3      dress|headband, head covering, hair accessory|...        \n",
       "4      dress|headband, head covering, hair accessory|...        \n",
       "...                                                  ...   ...  \n",
       "45190                           dress|shoe|shoe|neckline        \n",
       "45191  top, t-shirt, sweatshirt|watch|belt|shoe|shoe|...        \n",
       "45192  dress|glasses|watch|shoe|shoe|bag, wallet|coll...        \n",
       "45193  shirt, blouse|belt|shoe|shoe|collar|lapel|slee...        \n",
       "45194                       dress|sleeve|sleeve|neckline        \n",
       "\n",
       "[45195 rows x 4 columns]"
      ]
     },
     "execution_count": 17,
     "metadata": {},
     "output_type": "execute_result"
    }
   ],
   "source": [
    "final_df[\"Split\"] = \" \"\n",
    "final_df"
   ]
  },
  {
   "cell_type": "code",
   "execution_count": 20,
   "metadata": {},
   "outputs": [],
   "source": [
    "#Make 80% train set and 20% test set, adjust as needed to get the best results\n",
    "def split_dataset(index):\n",
    "    if index <= 36100:\n",
    "        return 'train'\n",
    "    else:\n",
    "        return 'test'"
   ]
  },
  {
   "cell_type": "code",
   "execution_count": 26,
   "metadata": {},
   "outputs": [
    {
     "ename": "TypeError",
     "evalue": "'<=' not supported between instances of 'str' and 'int'",
     "output_type": "error",
     "traceback": [
      "\u001b[0;31m---------------------------------------------------------------------------\u001b[0m",
      "\u001b[0;31mTypeError\u001b[0m                                 Traceback (most recent call last)",
      "Cell \u001b[0;32mIn[26], line 1\u001b[0m\n\u001b[0;32m----> 1\u001b[0m final_df[\u001b[38;5;124m\"\u001b[39m\u001b[38;5;124mSplit\u001b[39m\u001b[38;5;124m\"\u001b[39m] \u001b[38;5;241m=\u001b[39m \u001b[43mfinal_df\u001b[49m\u001b[38;5;241;43m.\u001b[39;49m\u001b[43mindex\u001b[49m\u001b[38;5;241;43m.\u001b[39;49m\u001b[43mto_series\u001b[49m\u001b[43m(\u001b[49m\u001b[43m)\u001b[49m\u001b[38;5;241;43m.\u001b[39;49m\u001b[43mapply\u001b[49m\u001b[43m(\u001b[49m\u001b[43msplit_dataset\u001b[49m\u001b[43m)\u001b[49m\n\u001b[1;32m      2\u001b[0m final_df[\u001b[38;5;124m\"\u001b[39m\u001b[38;5;124mSplit\u001b[39m\u001b[38;5;124m\"\u001b[39m]\n",
      "File \u001b[0;32m/usr/local/lib/python3.10/dist-packages/pandas/core/series.py:4764\u001b[0m, in \u001b[0;36mSeries.apply\u001b[0;34m(self, func, convert_dtype, args, by_row, **kwargs)\u001b[0m\n\u001b[1;32m   4629\u001b[0m \u001b[38;5;28;01mdef\u001b[39;00m \u001b[38;5;21mapply\u001b[39m(\n\u001b[1;32m   4630\u001b[0m     \u001b[38;5;28mself\u001b[39m,\n\u001b[1;32m   4631\u001b[0m     func: AggFuncType,\n\u001b[0;32m   (...)\u001b[0m\n\u001b[1;32m   4636\u001b[0m     \u001b[38;5;241m*\u001b[39m\u001b[38;5;241m*\u001b[39mkwargs,\n\u001b[1;32m   4637\u001b[0m ) \u001b[38;5;241m-\u001b[39m\u001b[38;5;241m>\u001b[39m DataFrame \u001b[38;5;241m|\u001b[39m Series:\n\u001b[1;32m   4638\u001b[0m \u001b[38;5;250m    \u001b[39m\u001b[38;5;124;03m\"\"\"\u001b[39;00m\n\u001b[1;32m   4639\u001b[0m \u001b[38;5;124;03m    Invoke function on values of Series.\u001b[39;00m\n\u001b[1;32m   4640\u001b[0m \n\u001b[0;32m   (...)\u001b[0m\n\u001b[1;32m   4755\u001b[0m \u001b[38;5;124;03m    dtype: float64\u001b[39;00m\n\u001b[1;32m   4756\u001b[0m \u001b[38;5;124;03m    \"\"\"\u001b[39;00m\n\u001b[1;32m   4757\u001b[0m     \u001b[38;5;28;01mreturn\u001b[39;00m \u001b[43mSeriesApply\u001b[49m\u001b[43m(\u001b[49m\n\u001b[1;32m   4758\u001b[0m \u001b[43m        \u001b[49m\u001b[38;5;28;43mself\u001b[39;49m\u001b[43m,\u001b[49m\n\u001b[1;32m   4759\u001b[0m \u001b[43m        \u001b[49m\u001b[43mfunc\u001b[49m\u001b[43m,\u001b[49m\n\u001b[1;32m   4760\u001b[0m \u001b[43m        \u001b[49m\u001b[43mconvert_dtype\u001b[49m\u001b[38;5;241;43m=\u001b[39;49m\u001b[43mconvert_dtype\u001b[49m\u001b[43m,\u001b[49m\n\u001b[1;32m   4761\u001b[0m \u001b[43m        \u001b[49m\u001b[43mby_row\u001b[49m\u001b[38;5;241;43m=\u001b[39;49m\u001b[43mby_row\u001b[49m\u001b[43m,\u001b[49m\n\u001b[1;32m   4762\u001b[0m \u001b[43m        \u001b[49m\u001b[43margs\u001b[49m\u001b[38;5;241;43m=\u001b[39;49m\u001b[43margs\u001b[49m\u001b[43m,\u001b[49m\n\u001b[1;32m   4763\u001b[0m \u001b[43m        \u001b[49m\u001b[43mkwargs\u001b[49m\u001b[38;5;241;43m=\u001b[39;49m\u001b[43mkwargs\u001b[49m\u001b[43m,\u001b[49m\n\u001b[0;32m-> 4764\u001b[0m \u001b[43m    \u001b[49m\u001b[43m)\u001b[49m\u001b[38;5;241;43m.\u001b[39;49m\u001b[43mapply\u001b[49m\u001b[43m(\u001b[49m\u001b[43m)\u001b[49m\n",
      "File \u001b[0;32m/usr/local/lib/python3.10/dist-packages/pandas/core/apply.py:1209\u001b[0m, in \u001b[0;36mSeriesApply.apply\u001b[0;34m(self)\u001b[0m\n\u001b[1;32m   1206\u001b[0m     \u001b[38;5;28;01mreturn\u001b[39;00m \u001b[38;5;28mself\u001b[39m\u001b[38;5;241m.\u001b[39mapply_compat()\n\u001b[1;32m   1208\u001b[0m \u001b[38;5;66;03m# self.func is Callable\u001b[39;00m\n\u001b[0;32m-> 1209\u001b[0m \u001b[38;5;28;01mreturn\u001b[39;00m \u001b[38;5;28;43mself\u001b[39;49m\u001b[38;5;241;43m.\u001b[39;49m\u001b[43mapply_standard\u001b[49m\u001b[43m(\u001b[49m\u001b[43m)\u001b[49m\n",
      "File \u001b[0;32m/usr/local/lib/python3.10/dist-packages/pandas/core/apply.py:1289\u001b[0m, in \u001b[0;36mSeriesApply.apply_standard\u001b[0;34m(self)\u001b[0m\n\u001b[1;32m   1283\u001b[0m \u001b[38;5;66;03m# row-wise access\u001b[39;00m\n\u001b[1;32m   1284\u001b[0m \u001b[38;5;66;03m# apply doesn't have a `na_action` keyword and for backward compat reasons\u001b[39;00m\n\u001b[1;32m   1285\u001b[0m \u001b[38;5;66;03m# we need to give `na_action=\"ignore\"` for categorical data.\u001b[39;00m\n\u001b[1;32m   1286\u001b[0m \u001b[38;5;66;03m# TODO: remove the `na_action=\"ignore\"` when that default has been changed in\u001b[39;00m\n\u001b[1;32m   1287\u001b[0m \u001b[38;5;66;03m#  Categorical (GH51645).\u001b[39;00m\n\u001b[1;32m   1288\u001b[0m action \u001b[38;5;241m=\u001b[39m \u001b[38;5;124m\"\u001b[39m\u001b[38;5;124mignore\u001b[39m\u001b[38;5;124m\"\u001b[39m \u001b[38;5;28;01mif\u001b[39;00m \u001b[38;5;28misinstance\u001b[39m(obj\u001b[38;5;241m.\u001b[39mdtype, CategoricalDtype) \u001b[38;5;28;01melse\u001b[39;00m \u001b[38;5;28;01mNone\u001b[39;00m\n\u001b[0;32m-> 1289\u001b[0m mapped \u001b[38;5;241m=\u001b[39m \u001b[43mobj\u001b[49m\u001b[38;5;241;43m.\u001b[39;49m\u001b[43m_map_values\u001b[49m\u001b[43m(\u001b[49m\n\u001b[1;32m   1290\u001b[0m \u001b[43m    \u001b[49m\u001b[43mmapper\u001b[49m\u001b[38;5;241;43m=\u001b[39;49m\u001b[43mcurried\u001b[49m\u001b[43m,\u001b[49m\u001b[43m \u001b[49m\u001b[43mna_action\u001b[49m\u001b[38;5;241;43m=\u001b[39;49m\u001b[43maction\u001b[49m\u001b[43m,\u001b[49m\u001b[43m \u001b[49m\u001b[43mconvert\u001b[49m\u001b[38;5;241;43m=\u001b[39;49m\u001b[38;5;28;43mself\u001b[39;49m\u001b[38;5;241;43m.\u001b[39;49m\u001b[43mconvert_dtype\u001b[49m\n\u001b[1;32m   1291\u001b[0m \u001b[43m\u001b[49m\u001b[43m)\u001b[49m\n\u001b[1;32m   1293\u001b[0m \u001b[38;5;28;01mif\u001b[39;00m \u001b[38;5;28mlen\u001b[39m(mapped) \u001b[38;5;129;01mand\u001b[39;00m \u001b[38;5;28misinstance\u001b[39m(mapped[\u001b[38;5;241m0\u001b[39m], ABCSeries):\n\u001b[1;32m   1294\u001b[0m     \u001b[38;5;66;03m# GH#43986 Need to do list(mapped) in order to get treated as nested\u001b[39;00m\n\u001b[1;32m   1295\u001b[0m     \u001b[38;5;66;03m#  See also GH#25959 regarding EA support\u001b[39;00m\n\u001b[1;32m   1296\u001b[0m     \u001b[38;5;28;01mreturn\u001b[39;00m obj\u001b[38;5;241m.\u001b[39m_constructor_expanddim(\u001b[38;5;28mlist\u001b[39m(mapped), index\u001b[38;5;241m=\u001b[39mobj\u001b[38;5;241m.\u001b[39mindex)\n",
      "File \u001b[0;32m/usr/local/lib/python3.10/dist-packages/pandas/core/base.py:921\u001b[0m, in \u001b[0;36mIndexOpsMixin._map_values\u001b[0;34m(self, mapper, na_action, convert)\u001b[0m\n\u001b[1;32m    918\u001b[0m \u001b[38;5;28;01mif\u001b[39;00m \u001b[38;5;28misinstance\u001b[39m(arr, ExtensionArray):\n\u001b[1;32m    919\u001b[0m     \u001b[38;5;28;01mreturn\u001b[39;00m arr\u001b[38;5;241m.\u001b[39mmap(mapper, na_action\u001b[38;5;241m=\u001b[39mna_action)\n\u001b[0;32m--> 921\u001b[0m \u001b[38;5;28;01mreturn\u001b[39;00m \u001b[43malgorithms\u001b[49m\u001b[38;5;241;43m.\u001b[39;49m\u001b[43mmap_array\u001b[49m\u001b[43m(\u001b[49m\u001b[43marr\u001b[49m\u001b[43m,\u001b[49m\u001b[43m \u001b[49m\u001b[43mmapper\u001b[49m\u001b[43m,\u001b[49m\u001b[43m \u001b[49m\u001b[43mna_action\u001b[49m\u001b[38;5;241;43m=\u001b[39;49m\u001b[43mna_action\u001b[49m\u001b[43m,\u001b[49m\u001b[43m \u001b[49m\u001b[43mconvert\u001b[49m\u001b[38;5;241;43m=\u001b[39;49m\u001b[43mconvert\u001b[49m\u001b[43m)\u001b[49m\n",
      "File \u001b[0;32m/usr/local/lib/python3.10/dist-packages/pandas/core/algorithms.py:1814\u001b[0m, in \u001b[0;36mmap_array\u001b[0;34m(arr, mapper, na_action, convert)\u001b[0m\n\u001b[1;32m   1812\u001b[0m values \u001b[38;5;241m=\u001b[39m arr\u001b[38;5;241m.\u001b[39mastype(\u001b[38;5;28mobject\u001b[39m, copy\u001b[38;5;241m=\u001b[39m\u001b[38;5;28;01mFalse\u001b[39;00m)\n\u001b[1;32m   1813\u001b[0m \u001b[38;5;28;01mif\u001b[39;00m na_action \u001b[38;5;129;01mis\u001b[39;00m \u001b[38;5;28;01mNone\u001b[39;00m:\n\u001b[0;32m-> 1814\u001b[0m     \u001b[38;5;28;01mreturn\u001b[39;00m \u001b[43mlib\u001b[49m\u001b[38;5;241;43m.\u001b[39;49m\u001b[43mmap_infer\u001b[49m\u001b[43m(\u001b[49m\u001b[43mvalues\u001b[49m\u001b[43m,\u001b[49m\u001b[43m \u001b[49m\u001b[43mmapper\u001b[49m\u001b[43m,\u001b[49m\u001b[43m \u001b[49m\u001b[43mconvert\u001b[49m\u001b[38;5;241;43m=\u001b[39;49m\u001b[43mconvert\u001b[49m\u001b[43m)\u001b[49m\n\u001b[1;32m   1815\u001b[0m \u001b[38;5;28;01melse\u001b[39;00m:\n\u001b[1;32m   1816\u001b[0m     \u001b[38;5;28;01mreturn\u001b[39;00m lib\u001b[38;5;241m.\u001b[39mmap_infer_mask(\n\u001b[1;32m   1817\u001b[0m         values, mapper, mask\u001b[38;5;241m=\u001b[39misna(values)\u001b[38;5;241m.\u001b[39mview(np\u001b[38;5;241m.\u001b[39muint8), convert\u001b[38;5;241m=\u001b[39mconvert\n\u001b[1;32m   1818\u001b[0m     )\n",
      "File \u001b[0;32mlib.pyx:2926\u001b[0m, in \u001b[0;36mpandas._libs.lib.map_infer\u001b[0;34m()\u001b[0m\n",
      "Cell \u001b[0;32mIn[20], line 3\u001b[0m, in \u001b[0;36msplit_dataset\u001b[0;34m(index)\u001b[0m\n\u001b[1;32m      2\u001b[0m \u001b[38;5;28;01mdef\u001b[39;00m \u001b[38;5;21msplit_dataset\u001b[39m(index):\n\u001b[0;32m----> 3\u001b[0m     \u001b[38;5;28;01mif\u001b[39;00m \u001b[43mindex\u001b[49m\u001b[43m \u001b[49m\u001b[38;5;241;43m<\u001b[39;49m\u001b[38;5;241;43m=\u001b[39;49m\u001b[43m \u001b[49m\u001b[38;5;241;43m36100\u001b[39;49m:\n\u001b[1;32m      4\u001b[0m         \u001b[38;5;28;01mreturn\u001b[39;00m \u001b[38;5;124m'\u001b[39m\u001b[38;5;124mtrain\u001b[39m\u001b[38;5;124m'\u001b[39m\n\u001b[1;32m      5\u001b[0m     \u001b[38;5;28;01melse\u001b[39;00m:\n",
      "\u001b[0;31mTypeError\u001b[0m: '<=' not supported between instances of 'str' and 'int'"
     ]
    }
   ],
   "source": [
    "\n",
    "    \n",
    "    \n",
    "final_df[\"Split\"] = final_df.index.to_series().apply(split_dataset)\n",
    "final_df[\"Split\"]"
   ]
  },
  {
   "cell_type": "code",
   "execution_count": 19,
   "metadata": {},
   "outputs": [
    {
     "data": {
      "text/plain": [
       "0        False\n",
       "1        False\n",
       "2        False\n",
       "3        False\n",
       "4        False\n",
       "         ...  \n",
       "36096    False\n",
       "36097    False\n",
       "36098    False\n",
       "36099    False\n",
       "36100    False\n",
       "Name: Split, Length: 36101, dtype: bool"
      ]
     },
     "execution_count": 19,
     "metadata": {},
     "output_type": "execute_result"
    }
   ],
   "source": [
    "final_df"
   ]
  },
  {
   "cell_type": "code",
   "execution_count": null,
   "metadata": {},
   "outputs": [],
   "source": [
    "final_df.to_excel(\"dataset/final_dataset.xlsx\", index=False)"
   ]
  }
 ],
 "metadata": {
  "kernelspec": {
   "display_name": "Python 3 (ipykernel)",
   "language": "python",
   "name": "python3"
  },
  "language_info": {
   "codemirror_mode": {
    "name": "ipython",
    "version": 3
   },
   "file_extension": ".py",
   "mimetype": "text/x-python",
   "name": "python",
   "nbconvert_exporter": "python",
   "pygments_lexer": "ipython3",
   "version": "3.10.12"
  }
 },
 "nbformat": 4,
 "nbformat_minor": 2
}
